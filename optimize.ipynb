{
 "cells": [
  {
   "cell_type": "markdown",
   "metadata": {},
   "source": [
    "# Summary\n",
    "\n",
    "## Step 1:\n",
    "define graph based forcast function for single day\n",
    "\n",
    "## Step 2:\n",
    "define forcast function for chunk of dates \n",
    "\n",
    "## Step 3: \n",
    "define loss function in a way that errors further away from the cental value are taken less into account\n",
    "\n",
    "## Step 4:\n",
    "Optimize consecutively chunks and get optimal value for each chunk\n",
    "\n",
    "\n",
    "## Links:\n",
    "\n",
    "http://scipy-lectures.org/advanced/mathematical_optimization/\n",
    "\n",
    "https://docs.scipy.org/doc/scipy/reference/optimize.minimize-lbfgsb.html"
   ]
  },
  {
   "cell_type": "markdown",
   "metadata": {},
   "source": [
    "### Step 1\n",
    "graph adjusted SIR model with:\n",
    "\n",
    "$\\frac{d I}{d t} = \\sum \\limits_{N \\in \\text{Neighbours}} \\alpha_N \\gamma_N  I_N$ with $\\sum \\alpha_N = 1$ \n",
    "Where neighbours includes the current node too.\n",
    "\n",
    "Problem: $\\gamma_N$ is unknown too. If I'd relay on the actual $\\gamma$ of the RKI a perfect solution would be $\\alpha = 0$ for every node expect the current one\n",
    "\n",
    "maybe due to step 2 it makes sense to look at combined values $r_n = \\alpha_n \\gamma_n$ for each chunk"
   ]
  }
 ],
 "metadata": {
  "kernelspec": {
   "display_name": "Python 3",
   "language": "python",
   "name": "python3"
  },
  "language_info": {
   "codemirror_mode": {
    "name": "ipython",
    "version": 3
   },
   "file_extension": ".py",
   "mimetype": "text/x-python",
   "name": "python",
   "nbconvert_exporter": "python",
   "pygments_lexer": "ipython3",
   "version": "3.8.5"
  }
 },
 "nbformat": 4,
 "nbformat_minor": 4
}
